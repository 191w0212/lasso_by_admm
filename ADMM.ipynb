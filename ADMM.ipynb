{
 "cells": [
  {
   "cell_type": "code",
   "execution_count": 1,
   "metadata": {
    "collapsed": true
   },
   "outputs": [],
   "source": [
    "# http://web.stanford.edu/~boyd/papers/pdf/admm_slides.pdf"
   ]
  },
  {
   "cell_type": "code",
   "execution_count": 2,
   "metadata": {
    "collapsed": true
   },
   "outputs": [],
   "source": [
    "import numpy as np\n",
    "import pandas as pd\n",
    "from sklearn.datasets import load_boston\n",
    "from sklearn.base import BaseEstimator, RegressorMixin"
   ]
  },
  {
   "cell_type": "code",
   "execution_count": 3,
   "metadata": {},
   "outputs": [
    {
     "name": "stdout",
     "output_type": "stream",
     "text": [
      "(506, 13)\n"
     ]
    }
   ],
   "source": [
    "# Loads data.\n",
    "boston = load_boston()\n",
    "print(boston.data.shape)"
   ]
  },
  {
   "cell_type": "code",
   "execution_count": 10,
   "metadata": {},
   "outputs": [],
   "source": [
    "# Executes preprocessing of data.\n",
    "mean = np.mean(boston.data, axis=0)\n",
    "std = np.std(boston.data, axis=0)\n",
    "A = (boston.data - mean)/std\n",
    "b = boston.target\n",
    "N = A.shape[0]"
   ]
  },
  {
   "cell_type": "code",
   "execution_count": 16,
   "metadata": {},
   "outputs": [],
   "source": [
    "class Admm(BaseEstimator, RegressorMixin):\n",
    "    def __init__(self, lambd=1.0, rho=1.0, max_iteration_count=1000):\n",
    "        self.lambd = lambd\n",
    "        self.rho = rho\n",
    "        self.threshold = lambd / rho\n",
    "        self.max_iteration_count = max_iteration_count\n",
    "        self.coef_ = None\n",
    "        self.intercept_ = 0.0\n",
    "\n",
    "    def _soft_threshold(self, x):\n",
    "        t = self.threshold\n",
    "        \n",
    "        positive_indexes = x >= t\n",
    "        negative_indexes = x <= t\n",
    "        zero_indexes = abs(x) <= t\n",
    "        \n",
    "        y = np.zeros(x.shape)    \n",
    "        y[positive_indexes] = x[positive_indexes] - t\n",
    "        y[negative_indexes] = x[negative_indexes] + t\n",
    "        y[zero_indexes] = 0.0\n",
    "    \n",
    "        return y\n",
    "\n",
    "    def fit(self, A, b):\n",
    "        inv_matrix = np.linalg.inv(np.dot(A.T, A) + self.rho * np.identity(A.shape[1]))\n",
    "\n",
    "        # # scikit-learn's solution\n",
    "        #x = np.array([0, 0, 0, 0, 0, 2.71310728, 0, 0, 0, 0, -1.34349862, 0.18079388, -3.54361166])\n",
    "        \n",
    "        x = np.dot(A.T, b)\n",
    "        z = x.copy()\n",
    "        y = np.zeros(len(x))\n",
    "    \n",
    "        for iteration in range(self.max_iteration_count):\n",
    "            x = np.dot(inv_matrix, np.dot(A.T, b) + self.rho * z - y)\n",
    "            z = self._soft_threshold(x + y / self.rho)\n",
    "            y += self.rho * (x - z)\n",
    "\n",
    "        self.coef_ = x\n",
    "                      \n",
    "        return self\n",
    "\n",
    "    def predict(self, X):\n",
    "        y = np.dot(X, self.coef_)\n",
    "        return y"
   ]
  },
  {
   "cell_type": "code",
   "execution_count": 17,
   "metadata": {},
   "outputs": [
    {
     "name": "stdout",
     "output_type": "stream",
     "text": [
      "Lasso by ADMM\n",
      "[ 0.0000  0.0000  0.0000 -0.0000  0.0000  2.6760  0.0000  0.0000  0.0000\n",
      "  0.0000 -1.3074  0.1344 -3.5368]\n"
     ]
    }
   ],
   "source": [
    "np.set_printoptions(formatter={'float': '{: 0.4f}'.format})\n",
    "model = Admm(lambd=N*1.06, rho=N*0.95, max_iteration_count=1000)\n",
    "model.fit(A, b)\n",
    "print(\"Lasso by ADMM\")\n",
    "print(model.coef_)"
   ]
  },
  {
   "cell_type": "code",
   "execution_count": 21,
   "metadata": {},
   "outputs": [
    {
     "data": {
      "text/plain": [
       "(Admm(lambd=536.36, max_iteration_count=1000, rho=480.7),\n",
       " {'lambd': 536.36, 'rho': 480.7},\n",
       " -32.895232108644777)"
      ]
     },
     "execution_count": 21,
     "metadata": {},
     "output_type": "execute_result"
    }
   ],
   "source": [
    "from sklearn.model_selection import GridSearchCV\n",
    "estimator = Admm(lambd=1.0, rho=1.0, max_iteration_count=1000)\n",
    "gs = GridSearchCV(estimator, {'lambd': [N*1.06], 'rho': [N*0.95]})\n",
    "gs.fit(A,b)\n",
    "gs.best_estimator_, gs.best_params_, gs.best_score_"
   ]
  },
  {
   "cell_type": "code",
   "execution_count": 22,
   "metadata": {},
   "outputs": [
    {
     "name": "stdout",
     "output_type": "stream",
     "text": [
      "\n",
      "scikit learn Lasso\n",
      "0.0\n",
      "[-0.0000  0.0000 -0.0000  0.0000 -0.0000  2.7131 -0.0000 -0.0000 -0.0000\n",
      " -0.0000 -1.3435  0.1808 -3.5436]\n"
     ]
    }
   ],
   "source": [
    "from sklearn import linear_model\n",
    "\n",
    "model = linear_model.Lasso(alpha=1.0, max_iter=1000, tol=0.0, fit_intercept=False) # tol=0.0で収束判定なし(上の実装とほぼ同条件?)\n",
    "model.fit(A, b)\n",
    "print(\"\")\n",
    "print(\"scikit learn Lasso\")\n",
    "print(model.intercept_)\n",
    "print(model.coef_)"
   ]
  }
 ],
 "metadata": {
  "kernelspec": {
   "display_name": "Python 3",
   "language": "python",
   "name": "python3"
  },
  "language_info": {
   "codemirror_mode": {
    "name": "ipython",
    "version": 3
   },
   "file_extension": ".py",
   "mimetype": "text/x-python",
   "name": "python",
   "nbconvert_exporter": "python",
   "pygments_lexer": "ipython3",
   "version": "3.6.1"
  }
 },
 "nbformat": 4,
 "nbformat_minor": 2
}
