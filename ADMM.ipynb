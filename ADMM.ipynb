{
 "cells": [
  {
   "cell_type": "code",
   "execution_count": 1,
   "metadata": {
    "collapsed": true
   },
   "outputs": [],
   "source": [
    "import numpy as np\n",
    "import pandas as pd\n",
    "from sklearn.datasets import load_boston\n",
    "from sklearn.base import BaseEstimator, RegressorMixin"
   ]
  },
  {
   "cell_type": "code",
   "execution_count": 2,
   "metadata": {},
   "outputs": [
    {
     "name": "stdout",
     "output_type": "stream",
     "text": [
      "(506, 13)\n"
     ]
    }
   ],
   "source": [
    "# Loads data.\n",
    "boston = load_boston()\n",
    "print(boston.data.shape)"
   ]
  },
  {
   "cell_type": "code",
   "execution_count": 3,
   "metadata": {},
   "outputs": [],
   "source": [
    "# Standardizes data.\n",
    "mean = np.mean(boston.data, axis=0)\n",
    "std = np.std(boston.data, axis=0)\n",
    "A = (boston.data - mean)/std\n",
    "b = boston.target"
   ]
  },
  {
   "cell_type": "code",
   "execution_count": 4,
   "metadata": {},
   "outputs": [],
   "source": [
    "class Admm(BaseEstimator, RegressorMixin):\n",
    "    def __init__(self, lambd=1.0, rho=1.0, max_iter=1000):\n",
    "        self.lambd = lambd\n",
    "        self.rho = rho\n",
    "        self.threshold = lambd / rho\n",
    "        self.max_iter = max_iter\n",
    "        self.coef_ = None\n",
    "        self.intercept_ = 0.0\n",
    "\n",
    "    def _soft_threshold(self, x):\n",
    "        t = self.threshold\n",
    "        \n",
    "        positive_indexes = x >= t\n",
    "        negative_indexes = x <= t\n",
    "        zero_indexes = abs(x) <= t\n",
    "        \n",
    "        y = np.zeros(x.shape)    \n",
    "        y[positive_indexes] = x[positive_indexes] - t\n",
    "        y[negative_indexes] = x[negative_indexes] + t\n",
    "        y[zero_indexes] = 0.0\n",
    "    \n",
    "        return y\n",
    "\n",
    "    def fit(self, A, b):\n",
    "        N = A.shape[0]\n",
    "        M = A.shape[1]\n",
    "        inv_matrix = np.linalg.inv(np.dot(A.T, A) / N + self.rho * np.identity(M))\n",
    "        \n",
    "        x = np.dot(A.T, b) / N\n",
    "        z = x.copy()\n",
    "        y = np.zeros(len(x))\n",
    "    \n",
    "        for iteration in range(self.max_iter):\n",
    "            x = np.dot(inv_matrix, np.dot(A.T, b) / N + self.rho * z - y)\n",
    "            z = self._soft_threshold(x + y / self.rho)\n",
    "            y += self.rho * (x - z)\n",
    "\n",
    "        self.coef_ = x\n",
    "                      \n",
    "        return self\n",
    "\n",
    "    def predict(self, X):\n",
    "        y = np.dot(X, self.coef_)\n",
    "        return y"
   ]
  },
  {
   "cell_type": "code",
   "execution_count": 5,
   "metadata": {
    "collapsed": true
   },
   "outputs": [],
   "source": [
    "np.set_printoptions(formatter={'float': '{: 0.10f}'.format})"
   ]
  },
  {
   "cell_type": "code",
   "execution_count": 6,
   "metadata": {},
   "outputs": [
    {
     "name": "stdout",
     "output_type": "stream",
     "text": [
      "Lasso by ADMM\n",
      "[-0.0000000000  0.0000000000 -0.0000000000 -0.0000000000  0.0000000000\n",
      "  2.7131072809  0.0000000000  0.0000000000  0.0000000000  0.0000000000\n",
      " -1.3434986189  0.1807938799 -3.5436116588]\n"
     ]
    }
   ],
   "source": [
    "model = Admm(lambd=1.0, rho=1.0, max_iter=1000)\n",
    "model.fit(A, b)\n",
    "print(\"Lasso by ADMM\")\n",
    "print(model.coef_)"
   ]
  },
  {
   "cell_type": "code",
   "execution_count": 7,
   "metadata": {},
   "outputs": [
    {
     "name": "stdout",
     "output_type": "stream",
     "text": [
      "Lasso by sickit-learn (coordinate descent)\n",
      "[-0.0000000000  0.0000000000 -0.0000000000  0.0000000000 -0.0000000000\n",
      "  2.7133533427 -0.0000000000 -0.0000000000 -0.0000000000 -0.0000000000\n",
      " -1.3435484031  0.1809553656 -3.5433828848]\n"
     ]
    }
   ],
   "source": [
    "from sklearn import linear_model\n",
    "\n",
    "model = linear_model.Lasso(alpha=1.0, max_iter=1000)\n",
    "model.fit(A, b)\n",
    "print(\"Lasso by sickit-learn (coordinate descent)\")\n",
    "print(model.coef_)"
   ]
  },
  {
   "cell_type": "code",
   "execution_count": null,
   "metadata": {
    "collapsed": true
   },
   "outputs": [],
   "source": []
  }
 ],
 "metadata": {
  "kernelspec": {
   "display_name": "Python 3",
   "language": "python",
   "name": "python3"
  },
  "language_info": {
   "codemirror_mode": {
    "name": "ipython",
    "version": 3
   },
   "file_extension": ".py",
   "mimetype": "text/x-python",
   "name": "python",
   "nbconvert_exporter": "python",
   "pygments_lexer": "ipython3",
   "version": "3.6.1"
  }
 },
 "nbformat": 4,
 "nbformat_minor": 2
}
